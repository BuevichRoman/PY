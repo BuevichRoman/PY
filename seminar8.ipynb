{
 "cells": [
  {
   "cell_type": "markdown",
   "id": "6462dd0e-8f02-4489-a06a-b5b8bb6f6a7b",
   "metadata": {},
   "source": [
    "1) Используя список l1, создать список, в котором каждый элемент списка l1 будет заменен значением длины строки соответствующего элемента в списке l1. Использовать генераторы, решить задачу в одну строку."
   ]
  },
  {
   "cell_type": "code",
   "execution_count": 4,
   "id": "91c56faf-a6c9-476a-9465-59dd65db6952",
   "metadata": {},
   "outputs": [
    {
     "name": "stdout",
     "output_type": "stream",
     "text": [
      "[1, 3, 3, 2, 1, 3]\n"
     ]
    }
   ],
   "source": [
    "l1 = ['1', '123', '123', '12', '1', '123']\n",
    "\n",
    "print([len(i) for i in l1])"
   ]
  },
  {
   "cell_type": "markdown",
   "id": "38b31b47-6f16-4371-8907-0b269516e42d",
   "metadata": {},
   "source": [
    "2) Подсчитать количество строк в списке l1, длина которых больше 2х. Использовать генераторы, решить задачу в одну строку."
   ]
  },
  {
   "cell_type": "code",
   "execution_count": 3,
   "id": "cc775c2d-874a-4b7c-81b6-6762b178595a",
   "metadata": {},
   "outputs": [
    {
     "name": "stdout",
     "output_type": "stream",
     "text": [
      "3\n"
     ]
    }
   ],
   "source": [
    "l1 = ['1', '123', '123', '12', '1', '123']\n",
    "\n",
    "print(len([len(i) for i in l1 if len(i) > 2]))"
   ]
  },
  {
   "cell_type": "markdown",
   "id": "39b9834f-a6d3-45c7-8d55-18dbbaaf5c71",
   "metadata": {},
   "source": [
    "3) Создать список, в котором все числа списка l2 умножены на их номер в списке. Использовать генераторы, решить задачу в одну строку."
   ]
  },
  {
   "cell_type": "code",
   "execution_count": 6,
   "id": "bc72a5d7-5ac5-4d1c-8c09-bff6657a14cd",
   "metadata": {},
   "outputs": [
    {
     "name": "stdout",
     "output_type": "stream",
     "text": [
      "[0, 4, -4, -9, 0, 55, 18, -7]\n"
     ]
    }
   ],
   "source": [
    "l2 = [2, 4, -2, -3, 0 , 11 , 3, -1]\n",
    "\n",
    "print([el*i for i, el in enumerate(l2)])"
   ]
  },
  {
   "cell_type": "markdown",
   "id": "3c09eae9-daae-468b-8f18-dc4673f94c6f",
   "metadata": {},
   "source": [
    "4) Создать список, в котором все отрицательные числа списка l2 исключены, остальные элементы сохранены на своих местах. Использовать генераторы, решить задачу в одну строку."
   ]
  },
  {
   "cell_type": "code",
   "execution_count": 7,
   "id": "fb4d58ef-ffd5-4093-8e8c-76e3de65118d",
   "metadata": {},
   "outputs": [
    {
     "name": "stdout",
     "output_type": "stream",
     "text": [
      "[2, 4, 0, 11, 3]\n"
     ]
    }
   ],
   "source": [
    "l2 = [2, 4, -2, -3, 0 , 11 , 3, -1]\n",
    "\n",
    "print([i for i in l2 if i >= 0])"
   ]
  },
  {
   "cell_type": "markdown",
   "id": "82c9b6f0-9fbc-4023-b2bb-0ea40b7a2f02",
   "metadata": {},
   "source": [
    "5) Создать список, в котором все отрицательные числа списка l2 заменены на их номер в списке, остальные элементы сохранены на своих местах. Использовать генераторы и тернарный оператор, решить задачу в одну строку."
   ]
  },
  {
   "cell_type": "code",
   "execution_count": 11,
   "id": "2e803835-7433-4cf7-a133-2fcf6f4d2bf4",
   "metadata": {},
   "outputs": [
    {
     "name": "stdout",
     "output_type": "stream",
     "text": [
      "[2, 4, 2, 3, 0, 11, 3, 7]\n"
     ]
    }
   ],
   "source": [
    "l2 = [2, 4, -2, -3, 0 , 11 , 3, -1]\n",
    "\n",
    "print([el if el >= 0 else i for i, el in enumerate(l2)])"
   ]
  },
  {
   "cell_type": "markdown",
   "id": "a0fac668-62db-4dbd-8f34-4a3e3d7ec1f3",
   "metadata": {},
   "source": [
    "6) На основе переданной строки (не содержащей повторяющихся символов) создать словарь, в котором каждому символу строки будет соответствовать номер символа в строке. Использовать генераторы, решить задачу в одну строку. Пример: строка 'abcdef', словарь {'a': 1, 'b': 2, 'c': 3, 'd': 4}"
   ]
  },
  {
   "cell_type": "code",
   "execution_count": 15,
   "id": "6c7f1845-3102-49a2-9fe0-5007c25c4bd5",
   "metadata": {},
   "outputs": [
    {
     "name": "stdin",
     "output_type": "stream",
     "text": [
      " abcd\n"
     ]
    },
    {
     "name": "stdout",
     "output_type": "stream",
     "text": [
      "{'a': 1, 'b': 2, 'c': 3, 'd': 4}\n"
     ]
    }
   ],
   "source": [
    "s = input()\n",
    "\n",
    "print({el: i+1 for i, el in enumerate(s)})"
   ]
  },
  {
   "cell_type": "markdown",
   "id": "3731f96d-a0b4-4072-8218-b3441169230c",
   "metadata": {},
   "source": [
    "7) Определить, сколько элементов заданного списка содержится в словаре. Использовать генераторы, решить задачу в одну строку. Пример: определить сколько элементов списка l1 содержится в словаре d1. (ответ: 2)"
   ]
  },
  {
   "cell_type": "code",
   "execution_count": 22,
   "id": "36cc2c2c-3e46-4cb2-a8e8-a9a151683f76",
   "metadata": {},
   "outputs": [
    {
     "name": "stdout",
     "output_type": "stream",
     "text": [
      "3\n"
     ]
    }
   ],
   "source": [
    "l1 = ['1', '123', '123', '12', '1', '123']\n",
    "d1 = {\"1\": 0, \"123\": 0, \"12\": 0}\n",
    "\n",
    "print(len([i for i in d1.keys() if i in l1]))"
   ]
  },
  {
   "cell_type": "markdown",
   "id": "d7ef11b2-75b5-41a8-bc6e-17378ea59fe3",
   "metadata": {},
   "source": [
    "8) Для строки evgene_o создать словарь, где для всех символов, встречающихся в строке, хранится число: сколько раз символ встретился в строке evgene_o. Использовать генераторы, решить задачу в одну строку."
   ]
  },
  {
   "cell_type": "code",
   "execution_count": 23,
   "id": "8576912d-0d34-4f7d-b951-a25f15e3ffe4",
   "metadata": {},
   "outputs": [
    {
     "name": "stdout",
     "output_type": "stream",
     "text": [
      "{'e': 3, 'v': 1, 'g': 1, 'n': 1, '_': 1, 'o': 1}\n"
     ]
    }
   ],
   "source": [
    "s = \"evgene_o\"\n",
    "\n",
    "print({el: s.count(el) for el in s})"
   ]
  },
  {
   "cell_type": "markdown",
   "id": "b545e1bf-10c0-4b07-91c8-a23b6b1fd426",
   "metadata": {},
   "source": [
    "9) Используя словарь, полученный в предыдущей задаче, подсчитать количество строчных букв в строке evgene_o. Использовать генераторы, решить задачу в одну строку."
   ]
  },
  {
   "cell_type": "code",
   "execution_count": 25,
   "id": "f278e64f-b5a9-4a0a-a24e-435de6097197",
   "metadata": {},
   "outputs": [
    {
     "name": "stdout",
     "output_type": "stream",
     "text": [
      "5\n"
     ]
    }
   ],
   "source": [
    "from string import ascii_lowercase\n",
    "\n",
    "d = {'e': 3, 'v': 1, 'g': 1, 'n': 1, '_': 1, 'o': 1}\n",
    "\n",
    "print(len([el for el in d.keys() if el in ascii_lowercase]))"
   ]
  },
  {
   "cell_type": "markdown",
   "id": "c3e706e5-163c-42ad-9759-f25fc0e2a6ba",
   "metadata": {},
   "source": [
    "10) Просуммировать произведения ключей словаря d4 на соответствующие им значения. Использовать генераторы, решить задачу в одну строку."
   ]
  },
  {
   "cell_type": "code",
   "execution_count": 27,
   "id": "169cc3f5-ea6c-4345-89ed-0d82c02b7d3f",
   "metadata": {},
   "outputs": [
    {
     "name": "stdout",
     "output_type": "stream",
     "text": [
      "910\n"
     ]
    }
   ],
   "source": [
    "d4 = {1: 10, 2: 20, 3: 30, 4: 40, 5: 50, 6: 60}\n",
    "\n",
    "print(sum([k*v for k, v in d4.items()]))"
   ]
  },
  {
   "cell_type": "markdown",
   "id": "741c1471-02f3-4486-b24f-75e4766948b9",
   "metadata": {},
   "source": [
    "11) На базе словаря d6 создать словарь d7, в котором нет пар ключ-значение с ключами, встречающимися в словаре d5. Использовать генераторы, решить задачу в одну строку."
   ]
  },
  {
   "cell_type": "code",
   "execution_count": 29,
   "id": "369cc728-14b3-483f-9960-0102a8571be1",
   "metadata": {},
   "outputs": [
    {
     "name": "stdout",
     "output_type": "stream",
     "text": [
      "{'h': 23, 'i': 24, 'j': 25, 'k': 26, 'l': 27}\n"
     ]
    }
   ],
   "source": [
    "d6 = {'e': 20, 'f': 21, 'g': 22, 'h': 23, 'i': 24, 'j': 25, 'k': 26, 'l': 27}\n",
    "d5 = {'a': 3, 'b': 4, 'c': 5, 'd': 6, 'e': 7, 'f': 8, 'g': 9}\n",
    "\n",
    "d7 = {k: v for k, v in d6.items() if k not in d5.keys()}\n",
    "print(d7)"
   ]
  },
  {
   "cell_type": "markdown",
   "id": "9f61b178-ed06-4530-99fd-3e2c9efc92b6",
   "metadata": {},
   "source": [
    "12)* Создать словарь d8, в котором есть все пары ключ-значения из d5, а для ключей, которые есть в d6, но отсутствуют в d5, добавить соответствующие пары ключ-значения в d8. Использовать генераторы, решить задачу в одну строку."
   ]
  },
  {
   "cell_type": "code",
   "execution_count": 30,
   "id": "46faaea9-a5e8-4249-ac5a-22c8e257c078",
   "metadata": {},
   "outputs": [
    {
     "name": "stdout",
     "output_type": "stream",
     "text": [
      "{'a': 3, 'b': 4, 'c': 5, 'd': 6, 'e': 7, 'f': 8, 'g': 9, 'h': 23, 'i': 24, 'j': 25, 'k': 26, 'l': 27}\n"
     ]
    }
   ],
   "source": [
    "d5 = {'a': 3, 'b': 4, 'c': 5, 'd': 6, 'e': 7, 'f': 8, 'g': 9}\n",
    "d6 = {'e': 20, 'f': 21, 'g': 22, 'h': 23, 'i': 24, 'j': 25, 'k': 26, 'l': 27}\n",
    "\n",
    "d8 = d5 | {k: v for k, v in d6.items() if k not in d5.keys()}\n",
    "print(d8)"
   ]
  },
  {
   "cell_type": "markdown",
   "id": "ecd8cabf-a069-49c2-8ded-94cae2887261",
   "metadata": {},
   "source": [
    "13) В словаре, полученном в задаче со стихотворением, удалить все пары ключ-значение для символов, встречающихся менее 5 раз. Использовать генераторы, решить задачу в одну строку."
   ]
  },
  {
   "cell_type": "code",
   "execution_count": null,
   "id": "4c586aa5-23f5-4c1e-a920-30852f3d456e",
   "metadata": {},
   "outputs": [],
   "source": []
  }
 ],
 "metadata": {
  "kernelspec": {
   "display_name": "Python 3 (ipykernel)",
   "language": "python",
   "name": "python3"
  },
  "language_info": {
   "codemirror_mode": {
    "name": "ipython",
    "version": 3
   },
   "file_extension": ".py",
   "mimetype": "text/x-python",
   "name": "python",
   "nbconvert_exporter": "python",
   "pygments_lexer": "ipython3",
   "version": "3.11.4"
  }
 },
 "nbformat": 4,
 "nbformat_minor": 5
}
